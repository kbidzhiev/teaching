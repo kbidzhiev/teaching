{
 "cells": [
  {
   "cell_type": "markdown",
   "metadata": {},
   "source": [
    "# Matrix Multiplication Complexity\n",
    "\n",
    "Matrix multiplication complexity is known to be $\\mathcal{O}(n^3)$. What does it mean ? Let's understand"
   ]
  },
  {
   "cell_type": "markdown",
   "metadata": {},
   "source": [
    "## Vector - vector multiplication\n",
    "\n",
    "\n",
    "### Defining a vector\n",
    "By a vector, I refer to a one-dimensional array of numbers arranged in a vertical column. The array can have any length, whether it's 3, 100, or even just a single element.\n",
    "\n",
    "Lets take an example of a vector $v$ with 3 elements:\n",
    "\n",
    "$$\n",
    "v = \n",
    "\\begin{bmatrix} a \\\\ b \\\\ c \\end{bmatrix}\n",
    "= \n",
    "\\begin{bmatrix} a & b & c \\end{bmatrix} ^T\n",
    "$$\n",
    "where symbol $T$ means transposition. A column vector is the same as a transposed row."
   ]
  },
  {
   "cell_type": "markdown",
   "metadata": {},
   "source": [
    "### Vector - vector multiplication\n",
    "\n",
    "Two vectors $v$ and $w$ can be multiplied and the multiplication is called *scalar* product or *dot* product.\n",
    "\n",
    "For vectors with real numbers $v = \\begin{bmatrix} a \\\\ b \\\\ c \\end{bmatrix}$ and $w =\\begin{bmatrix} d \\\\ e \\\\ f \\end{bmatrix}$ the dot product is defined as\n",
    "\n",
    "$$\n",
    "(v, w) = \\langle v | w\\rangle = v^T * w = \\\\\n",
    "a*d + b * b + c * f = \\\\\n",
    "v_1 * w_1 + v_2 * w_2 + v_3 * w_3 = \\\\\n",
    "\\sum^3_{i = 1} v_i * w_i\n",
    "$$\n",
    "\n",
    "$(w, v)$  and  $\\langle w | v\\rangle$ are just community dependent conventions for $w^T * v$\n",
    "\n",
    "\n",
    "Vectors $v$ and $w$ of length 3 require 3 $(*)$ multiplications and 2 $(+)$ additions. The scalar product of two arbitrary vectors of length $n$ requires $n$ multiplications $(*)$ and $n - 1$ additions $(+)$. So together $n_{(*)} + n-1_{(+)} = 2n - 1$."
   ]
  },
  {
   "cell_type": "markdown",
   "metadata": {},
   "source": [
    "### On $\\mathcal{O}(N)$ notation\n",
    "The number of operations for a scalar product, $2n-1$, grows linearly with $n$ and is commonly denoted as $\\mathcal{O}(n)$ in computer science community.\n",
    "\n",
    "We say function $f(n)$ belongs to a class of functions $\\mathcal{O}(g(n))$, if after a certain $n$ there exist a number $M$ such that\n",
    "$$\n",
    "f(n) \\leq M * g(n)\n",
    "$$\n",
    "Simply saying what after some point $M * g(n)$ is always greater than $f(n)$.\n",
    "\n",
    "You can see that $2n - 1 = \\mathcal{O}(n)$ because beyond certain $n$ the function $2n-1 \\leq M*n$, for example, with $M = 10$.\n",
    "However, at the same time,  $2n - 1 = \\mathcal{O}(n^2)$, because $M * n^2$ is larger than $2n-1$.\n",
    "\n",
    "Which should you choose $2n - 1 = \\mathcal{O}(n)$ or $2n - 1 = \\mathcal{O}(n^2)$. Typically, the convention is to choose the \"slowest-growing\" function, which in this case is the one with the smallest degree:\n",
    "$2n - 1 = \\mathcal{O}(n)$\n",
    "\n",
    "\n",
    "![Alternative Text](./image_O(n).webp)"
   ]
  },
  {
   "cell_type": "markdown",
   "metadata": {},
   "source": []
  }
 ],
 "metadata": {
  "language_info": {
   "name": "python"
  }
 },
 "nbformat": 4,
 "nbformat_minor": 2
}
