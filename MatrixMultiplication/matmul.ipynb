{
 "cells": [
  {
   "cell_type": "markdown",
   "metadata": {},
   "source": [
    "# Matrix Multiplication Complexity\n",
    "\n",
    "Matrix multiplication complexity is known to be $\\mathcal{O}(N^3)$. What does it mean ? Let's understand"
   ]
  },
  {
   "cell_type": "markdown",
   "metadata": {},
   "source": [
    "## Vector - vector multiplication\n",
    "\n",
    "\n",
    "### Defining a vector\n",
    "By a vector I mean a 1 dimensional array of numbers written as a vertical column. The array can have an arbitrary length, it may have 3, 100 or even 1 single element.\n",
    "\n",
    "Lets take an example of a vector $v$ with 3 elements:\n",
    "\n",
    "$$\n",
    "v = \n",
    "\\begin{bmatrix} a \\\\ b \\\\ c \\end{bmatrix}\n",
    "= \n",
    "\\begin{bmatrix} a & b & c \\end{bmatrix} ^T\n",
    "$$\n",
    "where symbol $T$ means transposition. A column vector is the same as a transposed row."
   ]
  },
  {
   "cell_type": "markdown",
   "metadata": {},
   "source": []
  },
  {
   "cell_type": "markdown",
   "metadata": {},
   "source": [
    "### Vector - vector multiplication\n",
    "\n",
    "Two vectors $v$ and $w$ can be multiplied and the multiplication is called *scalar* product or *dot* product.\n",
    "\n",
    "For vectors with real numbers $v = \\begin{bmatrix} a \\\\ b \\\\ c \\end{bmatrix}$ and $w =\\begin{bmatrix} d \\\\ e \\\\ f \\end{bmatrix}$ the dot product is defined as\n",
    "\n",
    "$$\n",
    "(v, w) = \\langle v | w\\rangle = v^T * w = \\\\\n",
    "a*d + b * b + c * f = \\\\\n",
    "v_1 * w_1 + v_2 * w_2 + v_3 * w_3 = \\\\\n",
    "\\sum^3_{i = 1} v_i * w_i\n",
    "$$\n",
    "\n",
    "$(w, v)$  and  $\\langle w | v\\rangle$ are just community dependent conventions for $w^T * v$\n",
    "\n",
    "\n",
    "Vectors $v$ and $w$ of length 3 require 3 $(*)$ multiplications and 2 $(+)$ additions. The scalar product of two arbitrary vectors of length $N$ requires $N$ multiplications $(*)$ and $N - 1$ additions $(+)$. So together $N_{(*)} + N-1_{(+)} = 2N - 1$"
   ]
  },
  {
   "cell_type": "markdown",
   "metadata": {},
   "source": []
  }
 ],
 "metadata": {
  "language_info": {
   "name": "python"
  }
 },
 "nbformat": 4,
 "nbformat_minor": 2
}
