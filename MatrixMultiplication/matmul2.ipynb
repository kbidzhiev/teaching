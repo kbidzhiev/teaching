{
 "cells": [
  {
   "cell_type": "markdown",
   "metadata": {},
   "source": [
    "## Matrix - vector multiplication\n",
    "\n",
    "\n",
    "### Defining a matrix (I)\n",
    "Textbooks define a matrix as a two-dimensional array of numbers. It is a rectangular array, not necessarily a square one. For example:\n",
    "\n",
    "$$\n",
    "A = \\begin{bmatrix}\n",
    "1 & 2 & 3 \\\\\n",
    "4 & 5 & 6 \\\\\n",
    "7 & 8 & 9\n",
    "\\end{bmatrix}, \\ \n",
    "\n",
    "B = \\begin{bmatrix}\n",
    "1 & 2 \\\\\n",
    "4 & 5\n",
    "\\end{bmatrix}, \\\\\n",
    "\n",
    "C = \\begin{bmatrix}\n",
    "1 & 2 \\\\\n",
    "4 & 5 \\\\\n",
    "7 & 8\n",
    "\\end{bmatrix}, \\\n",
    "\n",
    "D = \\begin{bmatrix}\n",
    "1 & -2 & 3 & 9\\\\\n",
    "4 &  5 & 6 & 0\n",
    "\\end{bmatrix}\n",
    "$$\n",
    "\n",
    "The square matrix $A$ has the shape $(3, 3)$, while the matrix $B$ has the shape $(2, 2)$. The matrix $C$ is a tall rectangular matrix with 3 rows and 2 columns, giving it the shape $(3, 2)$. In contrast, the wide matrix $D$ has the shape $(2, 4)$, consisting of 2 rows and 4 columns.\n",
    "\n",
    "The column vector $v = \\begin{bmatrix} a \\\\ b \\\\ c \\end{bmatrix}$ from the previous notebook is a matrix with the shape $(3, 1)$. It has 3 rows and 1 column. The transposed form, $v^T = \\begin{bmatrix} a & b & c \\end{bmatrix}$, can be interpreted as a matrix with 1 row and 3 columns, meaning its shape is $(1, 3)$."
   ]
  },
  {
   "cell_type": "markdown",
   "metadata": {},
   "source": [
    "### Defining a matrix (II)"
   ]
  },
  {
   "cell_type": "markdown",
   "metadata": {},
   "source": []
  }
 ],
 "metadata": {
  "language_info": {
   "name": "python"
  }
 },
 "nbformat": 4,
 "nbformat_minor": 2
}
